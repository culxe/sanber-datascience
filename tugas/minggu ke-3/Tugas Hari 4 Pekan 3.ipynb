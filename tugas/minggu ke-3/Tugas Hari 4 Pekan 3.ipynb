{
 "cells": [
  {
   "cell_type": "markdown",
   "metadata": {
    "id": "-l4VWD-3H8gf"
   },
   "source": [
    "Downoad  <a href=\"https://blog.sanbercode.com/wp-content/uploads/2020/05/vgsales.csv\">vgsales.csv</a>"
   ]
  },
  {
   "cell_type": "code",
   "execution_count": 1,
   "metadata": {
    "colab": {
     "base_uri": "https://localhost:8080/",
     "height": 206
    },
    "id": "9Ai0_dj_H4uz",
    "outputId": "242326f4-31a2-4fc4-fc62-5d40f85a0a5e"
   },
   "outputs": [
    {
     "data": {
      "text/html": [
       "<div>\n",
       "<style scoped>\n",
       "    .dataframe tbody tr th:only-of-type {\n",
       "        vertical-align: middle;\n",
       "    }\n",
       "\n",
       "    .dataframe tbody tr th {\n",
       "        vertical-align: top;\n",
       "    }\n",
       "\n",
       "    .dataframe thead th {\n",
       "        text-align: right;\n",
       "    }\n",
       "</style>\n",
       "<table border=\"1\" class=\"dataframe\">\n",
       "  <thead>\n",
       "    <tr style=\"text-align: right;\">\n",
       "      <th></th>\n",
       "      <th>Rank</th>\n",
       "      <th>Name</th>\n",
       "      <th>Platform</th>\n",
       "      <th>Year</th>\n",
       "      <th>Genre</th>\n",
       "      <th>Publisher</th>\n",
       "      <th>NA_Sales</th>\n",
       "      <th>EU_Sales</th>\n",
       "      <th>JP_Sales</th>\n",
       "      <th>Other_Sales</th>\n",
       "      <th>Global_Sales</th>\n",
       "    </tr>\n",
       "  </thead>\n",
       "  <tbody>\n",
       "    <tr>\n",
       "      <th>0</th>\n",
       "      <td>1</td>\n",
       "      <td>Wii Sports</td>\n",
       "      <td>Wii</td>\n",
       "      <td>2006.0</td>\n",
       "      <td>Sports</td>\n",
       "      <td>Nintendo</td>\n",
       "      <td>41.49</td>\n",
       "      <td>29.02</td>\n",
       "      <td>3.77</td>\n",
       "      <td>8.46</td>\n",
       "      <td>82.74</td>\n",
       "    </tr>\n",
       "    <tr>\n",
       "      <th>1</th>\n",
       "      <td>2</td>\n",
       "      <td>Super Mario Bros.</td>\n",
       "      <td>NES</td>\n",
       "      <td>1985.0</td>\n",
       "      <td>Platform</td>\n",
       "      <td>Nintendo</td>\n",
       "      <td>29.08</td>\n",
       "      <td>3.58</td>\n",
       "      <td>6.81</td>\n",
       "      <td>0.77</td>\n",
       "      <td>40.24</td>\n",
       "    </tr>\n",
       "    <tr>\n",
       "      <th>2</th>\n",
       "      <td>3</td>\n",
       "      <td>Mario Kart Wii</td>\n",
       "      <td>Wii</td>\n",
       "      <td>2008.0</td>\n",
       "      <td>Racing</td>\n",
       "      <td>Nintendo</td>\n",
       "      <td>15.85</td>\n",
       "      <td>12.88</td>\n",
       "      <td>3.79</td>\n",
       "      <td>3.31</td>\n",
       "      <td>35.82</td>\n",
       "    </tr>\n",
       "    <tr>\n",
       "      <th>3</th>\n",
       "      <td>4</td>\n",
       "      <td>Wii Sports Resort</td>\n",
       "      <td>Wii</td>\n",
       "      <td>2009.0</td>\n",
       "      <td>Sports</td>\n",
       "      <td>Nintendo</td>\n",
       "      <td>15.75</td>\n",
       "      <td>11.01</td>\n",
       "      <td>3.28</td>\n",
       "      <td>2.96</td>\n",
       "      <td>33.00</td>\n",
       "    </tr>\n",
       "    <tr>\n",
       "      <th>4</th>\n",
       "      <td>5</td>\n",
       "      <td>Pokemon Red/Pokemon Blue</td>\n",
       "      <td>GB</td>\n",
       "      <td>1996.0</td>\n",
       "      <td>Role-Playing</td>\n",
       "      <td>Nintendo</td>\n",
       "      <td>11.27</td>\n",
       "      <td>8.89</td>\n",
       "      <td>10.22</td>\n",
       "      <td>1.00</td>\n",
       "      <td>31.37</td>\n",
       "    </tr>\n",
       "  </tbody>\n",
       "</table>\n",
       "</div>"
      ],
      "text/plain": [
       "   Rank                      Name Platform    Year         Genre Publisher  \\\n",
       "0     1                Wii Sports      Wii  2006.0        Sports  Nintendo   \n",
       "1     2         Super Mario Bros.      NES  1985.0      Platform  Nintendo   \n",
       "2     3            Mario Kart Wii      Wii  2008.0        Racing  Nintendo   \n",
       "3     4         Wii Sports Resort      Wii  2009.0        Sports  Nintendo   \n",
       "4     5  Pokemon Red/Pokemon Blue       GB  1996.0  Role-Playing  Nintendo   \n",
       "\n",
       "   NA_Sales  EU_Sales  JP_Sales  Other_Sales  Global_Sales  \n",
       "0     41.49     29.02      3.77         8.46         82.74  \n",
       "1     29.08      3.58      6.81         0.77         40.24  \n",
       "2     15.85     12.88      3.79         3.31         35.82  \n",
       "3     15.75     11.01      3.28         2.96         33.00  \n",
       "4     11.27      8.89     10.22         1.00         31.37  "
      ]
     },
     "execution_count": 1,
     "metadata": {},
     "output_type": "execute_result"
    }
   ],
   "source": [
    "import pandas as pd\n",
    "import matplotlib.pyplot as plt\n",
    "\n",
    "df = pd.read_csv('vgsales.csv')\n",
    "df.head()"
   ]
  },
  {
   "cell_type": "markdown",
   "metadata": {
    "id": "-Bna8Y5uw3E5"
   },
   "source": [
    "\n",
    "\n",
    "---\n",
    "\n",
    "\n",
    "\n",
    "---\n",
    "\n"
   ]
  },
  {
   "cell_type": "markdown",
   "metadata": {
    "id": "rwGnDUJ4nKvh"
   },
   "source": [
    "<h2>Soal 1: Preparing Data</h2>\n",
    "\n",
    "Manipulasi data tersebut dengan menggroupkan berdasarkan Genre, kemudian ambil rata2 penjualan untuk Global_Sales berdasarkan kategori Genre."
   ]
  },
  {
   "cell_type": "code",
   "execution_count": 23,
   "metadata": {
    "id": "J8POCqyjnSjS"
   },
   "outputs": [
    {
     "data": {
      "text/html": [
       "<div>\n",
       "<style scoped>\n",
       "    .dataframe tbody tr th:only-of-type {\n",
       "        vertical-align: middle;\n",
       "    }\n",
       "\n",
       "    .dataframe tbody tr th {\n",
       "        vertical-align: top;\n",
       "    }\n",
       "\n",
       "    .dataframe thead th {\n",
       "        text-align: right;\n",
       "    }\n",
       "</style>\n",
       "<table border=\"1\" class=\"dataframe\">\n",
       "  <thead>\n",
       "    <tr style=\"text-align: right;\">\n",
       "      <th></th>\n",
       "      <th>Genre</th>\n",
       "      <th>Global_Sales</th>\n",
       "    </tr>\n",
       "  </thead>\n",
       "  <tbody>\n",
       "    <tr>\n",
       "      <th>0</th>\n",
       "      <td>Action</td>\n",
       "      <td>0.528100</td>\n",
       "    </tr>\n",
       "    <tr>\n",
       "      <th>1</th>\n",
       "      <td>Adventure</td>\n",
       "      <td>0.185879</td>\n",
       "    </tr>\n",
       "    <tr>\n",
       "      <th>2</th>\n",
       "      <td>Fighting</td>\n",
       "      <td>0.529375</td>\n",
       "    </tr>\n",
       "    <tr>\n",
       "      <th>3</th>\n",
       "      <td>Misc</td>\n",
       "      <td>0.465762</td>\n",
       "    </tr>\n",
       "    <tr>\n",
       "      <th>4</th>\n",
       "      <td>Platform</td>\n",
       "      <td>0.938341</td>\n",
       "    </tr>\n",
       "    <tr>\n",
       "      <th>5</th>\n",
       "      <td>Puzzle</td>\n",
       "      <td>0.420876</td>\n",
       "    </tr>\n",
       "    <tr>\n",
       "      <th>6</th>\n",
       "      <td>Racing</td>\n",
       "      <td>0.586101</td>\n",
       "    </tr>\n",
       "    <tr>\n",
       "      <th>7</th>\n",
       "      <td>Role-Playing</td>\n",
       "      <td>0.623233</td>\n",
       "    </tr>\n",
       "    <tr>\n",
       "      <th>8</th>\n",
       "      <td>Shooter</td>\n",
       "      <td>0.791885</td>\n",
       "    </tr>\n",
       "    <tr>\n",
       "      <th>9</th>\n",
       "      <td>Simulation</td>\n",
       "      <td>0.452364</td>\n",
       "    </tr>\n",
       "    <tr>\n",
       "      <th>10</th>\n",
       "      <td>Sports</td>\n",
       "      <td>0.567319</td>\n",
       "    </tr>\n",
       "    <tr>\n",
       "      <th>11</th>\n",
       "      <td>Strategy</td>\n",
       "      <td>0.257151</td>\n",
       "    </tr>\n",
       "  </tbody>\n",
       "</table>\n",
       "</div>"
      ],
      "text/plain": [
       "           Genre  Global_Sales\n",
       "0         Action      0.528100\n",
       "1      Adventure      0.185879\n",
       "2       Fighting      0.529375\n",
       "3           Misc      0.465762\n",
       "4       Platform      0.938341\n",
       "5         Puzzle      0.420876\n",
       "6         Racing      0.586101\n",
       "7   Role-Playing      0.623233\n",
       "8        Shooter      0.791885\n",
       "9     Simulation      0.452364\n",
       "10        Sports      0.567319\n",
       "11      Strategy      0.257151"
      ]
     },
     "execution_count": 23,
     "metadata": {},
     "output_type": "execute_result"
    }
   ],
   "source": [
    "#code here\n",
    "genre_data = df['Genre'].value_counts()\n",
    "average_sales_by_genre = df.groupby(\"Genre\")[\"Global_Sales\"].mean().reset_index()\n",
    "average_sales_by_genre"
   ]
  },
  {
   "cell_type": "markdown",
   "metadata": {
    "id": "82S-8BfynVWr"
   },
   "source": [
    "Expected Output:\n",
    "\n",
    "![alt text](https://drive.google.com/uc?id=1o0jbuZ3Uq_ovT3CBeAz4-oCCzdzWTccj)"
   ]
  },
  {
   "cell_type": "markdown",
   "metadata": {
    "id": "cQXEm-GXw486"
   },
   "source": [
    "\n",
    "\n",
    "---\n",
    "\n",
    "\n",
    "\n",
    "---\n",
    "\n"
   ]
  },
  {
   "cell_type": "markdown",
   "metadata": {
    "id": "O1NDy57FvdXX"
   },
   "source": [
    "<h2>Soal 2: Perbandingan Kuantitatif Pieplot - Part a whole using Pie plot</h2>\n",
    "\n",
    "1. Visualisasikan gambar yang tadi kita manipulasi, untuk menghasilkan visualisasi seperti di bawah ini\n",
    "2. Tuliskan apa insight yang bisa kamu dapat dari visualisasi tersebut"
   ]
  },
  {
   "cell_type": "code",
   "execution_count": 26,
   "metadata": {
    "id": "2ZQlEvpYwkbR"
   },
   "outputs": [
    {
     "data": {
      "image/png": "[encoded data removed]",
      "text/plain": [
       "<Figure size 640x480 with 1 Axes>"
      ]
     },
     "metadata": {},
     "output_type": "display_data"
    }
   ],
   "source": [
    "#code here\n",
    "plt.pie(average_sales_by_genre['Global_Sales'], labels=average_sales_by_genre['Genre'], autopct='%1.1f%%');"
   ]
  },
  {
   "cell_type": "markdown",
   "metadata": {},
   "source": [
    "- Rata-rata penjualan terbanyak berdasarkan genre didapatkan pada genre 'Platform' berjumlah 14.8%, sedangkan rata-rata penjualan paling sedikit yaitu pada genre 'Adventure' berjumlah 2.9%"
   ]
  },
  {
   "cell_type": "markdown",
   "metadata": {
    "id": "I-5Xqshtwl56"
   },
   "source": [
    "Expected Output:\n",
    "\n",
    "![alt text](https://drive.google.com/uc?id=14bMQ5LJjzAdYezU7g7Pdad12xEbOM5YE)"
   ]
  },
  {
   "cell_type": "markdown",
   "metadata": {
    "id": "QbFAlfqSw-RS"
   },
   "source": [
    "\n",
    "\n",
    "---\n",
    "\n",
    "\n",
    "\n",
    "---\n",
    "\n"
   ]
  },
  {
   "cell_type": "markdown",
   "metadata": {
    "id": "k7HkS3vbIHi2"
   },
   "source": [
    "<h2>Soal 3: Preparing Data</h2>\n",
    "\n",
    "Manipulasi data tersebut dengan menggroupkan berdasarkan Genre, kemudian ambil rata2 penjualan untuk setiap Region Kecuali Global_Sales berdasarkan kategori Genre."
   ]
  },
  {
   "cell_type": "code",
   "execution_count": 29,
   "metadata": {
    "id": "exdNdrh2xCP2"
   },
   "outputs": [
    {
     "data": {
      "text/html": [
       "<div>\n",
       "<style scoped>\n",
       "    .dataframe tbody tr th:only-of-type {\n",
       "        vertical-align: middle;\n",
       "    }\n",
       "\n",
       "    .dataframe tbody tr th {\n",
       "        vertical-align: top;\n",
       "    }\n",
       "\n",
       "    .dataframe thead th {\n",
       "        text-align: right;\n",
       "    }\n",
       "</style>\n",
       "<table border=\"1\" class=\"dataframe\">\n",
       "  <thead>\n",
       "    <tr style=\"text-align: right;\">\n",
       "      <th></th>\n",
       "      <th>NA_Sales</th>\n",
       "      <th>EU_Sales</th>\n",
       "      <th>JP_Sales</th>\n",
       "      <th>Other_Sales</th>\n",
       "    </tr>\n",
       "    <tr>\n",
       "      <th>Genre</th>\n",
       "      <th></th>\n",
       "      <th></th>\n",
       "      <th></th>\n",
       "      <th></th>\n",
       "    </tr>\n",
       "  </thead>\n",
       "  <tbody>\n",
       "    <tr>\n",
       "      <th>Action</th>\n",
       "      <td>0.264726</td>\n",
       "      <td>0.158323</td>\n",
       "      <td>0.048236</td>\n",
       "      <td>0.056508</td>\n",
       "    </tr>\n",
       "    <tr>\n",
       "      <th>Adventure</th>\n",
       "      <td>0.082271</td>\n",
       "      <td>0.049868</td>\n",
       "      <td>0.040490</td>\n",
       "      <td>0.013072</td>\n",
       "    </tr>\n",
       "    <tr>\n",
       "      <th>Fighting</th>\n",
       "      <td>0.263667</td>\n",
       "      <td>0.119481</td>\n",
       "      <td>0.103007</td>\n",
       "      <td>0.043255</td>\n",
       "    </tr>\n",
       "    <tr>\n",
       "      <th>Misc</th>\n",
       "      <td>0.235906</td>\n",
       "      <td>0.124198</td>\n",
       "      <td>0.061967</td>\n",
       "      <td>0.043312</td>\n",
       "    </tr>\n",
       "    <tr>\n",
       "      <th>Platform</th>\n",
       "      <td>0.504571</td>\n",
       "      <td>0.227573</td>\n",
       "      <td>0.147596</td>\n",
       "      <td>0.058228</td>\n",
       "    </tr>\n",
       "    <tr>\n",
       "      <th>Puzzle</th>\n",
       "      <td>0.212680</td>\n",
       "      <td>0.087251</td>\n",
       "      <td>0.098471</td>\n",
       "      <td>0.021564</td>\n",
       "    </tr>\n",
       "    <tr>\n",
       "      <th>Racing</th>\n",
       "      <td>0.287766</td>\n",
       "      <td>0.190865</td>\n",
       "      <td>0.045388</td>\n",
       "      <td>0.061865</td>\n",
       "    </tr>\n",
       "    <tr>\n",
       "      <th>Role-Playing</th>\n",
       "      <td>0.219946</td>\n",
       "      <td>0.126384</td>\n",
       "      <td>0.236767</td>\n",
       "      <td>0.040060</td>\n",
       "    </tr>\n",
       "    <tr>\n",
       "      <th>Shooter</th>\n",
       "      <td>0.444733</td>\n",
       "      <td>0.239137</td>\n",
       "      <td>0.029221</td>\n",
       "      <td>0.078389</td>\n",
       "    </tr>\n",
       "    <tr>\n",
       "      <th>Simulation</th>\n",
       "      <td>0.211430</td>\n",
       "      <td>0.130773</td>\n",
       "      <td>0.073472</td>\n",
       "      <td>0.036355</td>\n",
       "    </tr>\n",
       "    <tr>\n",
       "      <th>Sports</th>\n",
       "      <td>0.291283</td>\n",
       "      <td>0.160635</td>\n",
       "      <td>0.057702</td>\n",
       "      <td>0.057532</td>\n",
       "    </tr>\n",
       "    <tr>\n",
       "      <th>Strategy</th>\n",
       "      <td>0.100881</td>\n",
       "      <td>0.066579</td>\n",
       "      <td>0.072628</td>\n",
       "      <td>0.016681</td>\n",
       "    </tr>\n",
       "  </tbody>\n",
       "</table>\n",
       "</div>"
      ],
      "text/plain": [
       "              NA_Sales  EU_Sales  JP_Sales  Other_Sales\n",
       "Genre                                                  \n",
       "Action        0.264726  0.158323  0.048236     0.056508\n",
       "Adventure     0.082271  0.049868  0.040490     0.013072\n",
       "Fighting      0.263667  0.119481  0.103007     0.043255\n",
       "Misc          0.235906  0.124198  0.061967     0.043312\n",
       "Platform      0.504571  0.227573  0.147596     0.058228\n",
       "Puzzle        0.212680  0.087251  0.098471     0.021564\n",
       "Racing        0.287766  0.190865  0.045388     0.061865\n",
       "Role-Playing  0.219946  0.126384  0.236767     0.040060\n",
       "Shooter       0.444733  0.239137  0.029221     0.078389\n",
       "Simulation    0.211430  0.130773  0.073472     0.036355\n",
       "Sports        0.291283  0.160635  0.057702     0.057532\n",
       "Strategy      0.100881  0.066579  0.072628     0.016681"
      ]
     },
     "execution_count": 29,
     "metadata": {},
     "output_type": "execute_result"
    }
   ],
   "source": [
    "#code here\n",
    "group_by_genre = df.groupby(\"Genre\")\n",
    "\t\t\t\n",
    "average_sales = df.groupby(\"Genre\").agg({\n",
    "    \"NA_Sales\": \"mean\",\n",
    "    \"EU_Sales\": \"mean\",\n",
    "    \"JP_Sales\": \"mean\",\n",
    "    \"Other_Sales\":\"mean\"\n",
    "})\n",
    "average_sales"
   ]
  },
  {
   "cell_type": "markdown",
   "metadata": {
    "id": "SGww4HDIIQ_w"
   },
   "source": [
    "Expected Output:\n",
    "\n",
    "![alt text](https://drive.google.com/uc?id=1PJ9fpUJd4RX_E3ST_yv6BHYf8uR-bGAs)"
   ]
  },
  {
   "cell_type": "markdown",
   "metadata": {
    "id": "KW8ZbhuxIkFp"
   },
   "source": [
    "---"
   ]
  },
  {
   "cell_type": "markdown",
   "metadata": {
    "id": "bTBB4n1uIW3h"
   },
   "source": [
    "<h2>Soal 4: Perbandingan Kuantitatif Barplot - Grouping Visualisasi Dengan Barplot</h2>\n",
    "\n",
    "1. Visualisasikan gambar yang tadi kita manipulasi, untuk menghasilkan visualisasi seperti di bawah ini\n",
    "2. Tuliskan apa insight yang bisa kamu dapat dari visualisasi tersebut"
   ]
  },
  {
   "cell_type": "markdown",
   "metadata": {
    "id": "VwTqQflqjRdl"
   },
   "source": []
  },
  {
   "cell_type": "markdown",
   "metadata": {
    "id": "QYj6zWvJIh2x"
   },
   "source": [
    "Expected Output:\n",
    "\n",
    "![alt text](https://drive.google.com/uc?id=1A2s9Uy2i471VEYIZqMoVUIlZnVOUc8ha)"
   ]
  },
  {
   "cell_type": "markdown",
   "metadata": {
    "id": "_EZcVmKuImY3"
   },
   "source": [
    "---"
   ]
  }
 ],
 "metadata": {
  "colab": {
   "collapsed_sections": [],
   "name": "Tugas Hari 4 Pekan 3.ipynb",
   "provenance": []
  },
  "kernelspec": {
   "display_name": "myproject_kernel",
   "language": "python",
   "name": "myproject_kernel"
  },
  "language_info": {
   "codemirror_mode": {
    "name": "ipython",
    "version": 3
   },
   "file_extension": ".py",
   "mimetype": "text/x-python",
   "name": "python",
   "nbconvert_exporter": "python",
   "pygments_lexer": "ipython3",
   "version": "3.12.4"
  }
 },
 "nbformat": 4,
 "nbformat_minor": 0
}
