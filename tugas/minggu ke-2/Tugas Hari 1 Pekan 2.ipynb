{
 "cells": [
  {
   "cell_type": "markdown",
   "metadata": {
    "id": "s6LccGLI5deK"
   },
   "source": [
    "<h2>Soal 1: Membuat Objek DataFrames</h2>\n",
    "\n",
    "- Buatlah objek dataframes dari objek dictionary, Bebas!"
   ]
  },
  {
   "cell_type": "code",
   "execution_count": 6,
   "metadata": {
    "id": "V2jNr8n-5deM"
   },
   "outputs": [
    {
     "data": {
      "text/html": [
       "<div>\n",
       "<style scoped>\n",
       "    .dataframe tbody tr th:only-of-type {\n",
       "        vertical-align: middle;\n",
       "    }\n",
       "\n",
       "    .dataframe tbody tr th {\n",
       "        vertical-align: top;\n",
       "    }\n",
       "\n",
       "    .dataframe thead th {\n",
       "        text-align: right;\n",
       "    }\n",
       "</style>\n",
       "<table border=\"1\" class=\"dataframe\">\n",
       "  <thead>\n",
       "    <tr style=\"text-align: right;\">\n",
       "      <th></th>\n",
       "      <th>Numbers</th>\n",
       "      <th>Letters</th>\n",
       "      <th>Symbol</th>\n",
       "    </tr>\n",
       "  </thead>\n",
       "  <tbody>\n",
       "    <tr>\n",
       "      <th>0</th>\n",
       "      <td>1</td>\n",
       "      <td>a</td>\n",
       "      <td>!</td>\n",
       "    </tr>\n",
       "    <tr>\n",
       "      <th>1</th>\n",
       "      <td>2</td>\n",
       "      <td>b</td>\n",
       "      <td>@</td>\n",
       "    </tr>\n",
       "    <tr>\n",
       "      <th>2</th>\n",
       "      <td>3</td>\n",
       "      <td>c</td>\n",
       "      <td>#</td>\n",
       "    </tr>\n",
       "    <tr>\n",
       "      <th>3</th>\n",
       "      <td>4</td>\n",
       "      <td>d</td>\n",
       "      <td>$</td>\n",
       "    </tr>\n",
       "    <tr>\n",
       "      <th>4</th>\n",
       "      <td>5</td>\n",
       "      <td>e</td>\n",
       "      <td>%</td>\n",
       "    </tr>\n",
       "  </tbody>\n",
       "</table>\n",
       "</div>"
      ],
      "text/plain": [
       "   Numbers Letters Symbol\n",
       "0        1       a      !\n",
       "1        2       b      @\n",
       "2        3       c      #\n",
       "3        4       d      $\n",
       "4        5       e      %"
      ]
     },
     "execution_count": 6,
     "metadata": {},
     "output_type": "execute_result"
    }
   ],
   "source": [
    "# Membuat dataframes dari dictionary\n",
    "import pandas as pd\n",
    "df = pd.DataFrame({\"Numbers\":[1,2,3,4,5], \"Letters\":['a', 'b','c','d','e'], \"Symbol\":['!','@','#','$','%']})\n",
    "df.head()"
   ]
  },
  {
   "cell_type": "markdown",
   "metadata": {
    "id": "KWEFNf9B5deX"
   },
   "source": [
    "<h2>Soal 2: Membaca data dari file</h2>\n",
    "\n",
    "Download file bernama [diamonds.csv](https://drive.google.com/uc?export=download&id=1qQiM9utQUThTPq8jk8stPMh_y2zfqYOd), kemudian baca data tersebut dan assign ke dalam suatu variabel kemudian print."
   ]
  },
  {
   "cell_type": "code",
   "execution_count": 9,
   "metadata": {
    "id": "Jy2KtDNs5deZ"
   },
   "outputs": [],
   "source": [
    "# Membaca data dan memasukannya kedalam suatu variabel\n",
    "df=pd.read_csv('diamonds-1.csv')"
   ]
  },
  {
   "cell_type": "markdown",
   "metadata": {
    "id": "1o9m_N295del"
   },
   "source": [
    "Expected Result:\n",
    "\n",
    "![alt text](https://drive.google.com/uc?id=1BvgM5mJEVfj0fllrjkBfQwn0QIFkry_t)"
   ]
  },
  {
   "cell_type": "markdown",
   "metadata": {
    "id": "LtLWF_Ot5deo"
   },
   "source": [
    "<h2>Soal 3: DataFrame vs Series</h2>\n",
    "\n",
    "- Apa perbedaan Series dengan list dan dictionary\n",
    "- Apa perbedaan dataframe dan series\n",
    "- Buatlah suatu data series"
   ]
  },
  {
   "cell_type": "markdown",
   "metadata": {
    "id": "6F2EDcPp5der"
   },
   "source": [
    "Jawab:\n",
    "1.\n",
    "List adalah kumpulan objek di python (tanpa library) 1 dimensi\n",
    "Series adalah kumpulan objek di library pandas 1 dimensi dengan informasi index yang jelas dan bisa melakukan operasi vektor\n",
    "Dictionary adalah pasangan key dan value, tidak memiliki indeks.\n",
    "\n",
    "2.\n",
    "Dataframe tidak memiliki indeks, pencarian data/akses data menggunakan key. Series lebih terstruktur dan berurutan karena memiliki indeks."
   ]
  },
  {
   "cell_type": "code",
   "execution_count": 13,
   "metadata": {
    "id": "RBPrIKlZ5dev"
   },
   "outputs": [
    {
     "data": {
      "text/plain": [
       "0    1\n",
       "1    1\n",
       "2    1\n",
       "3    1\n",
       "4    1\n",
       "dtype: int64"
      ]
     },
     "execution_count": 13,
     "metadata": {},
     "output_type": "execute_result"
    }
   ],
   "source": [
    "# code here\n",
    "\n",
    "import pandas as pd\n",
    "\n",
    "x = pd.Series([1,1,1,1,1,1])\n",
    "x.head()"
   ]
  },
  {
   "cell_type": "markdown",
   "metadata": {
    "id": "JNuHgN945de8"
   },
   "source": [
    "<h2>Soal 4: Pemeriksaan Data Sederhana</h2>\n",
    "\n",
    "Di soal no 2 kamu telah membaca data tentang diamonds. pada soal ini cobalah suatu metode dari pandas untuk mengetahui beberapa data pertama dan beberapa data terakhir. kemudian sebutkan nilai dari:\n",
    "- baris pertama dari column price\n",
    "- baris terakhir dari column color\n",
    "\n",
    "tunjukan cara kalian menemukan nilai tersebut di block di bawah ini."
   ]
  },
  {
   "cell_type": "code",
   "execution_count": 22,
   "metadata": {
    "id": "MRvNarxL5de-"
   },
   "outputs": [
    {
     "data": {
      "text/plain": [
       "0    326\n",
       "1    326\n",
       "2    327\n",
       "3    334\n",
       "4    335\n",
       "Name: price, dtype: int64"
      ]
     },
     "execution_count": 22,
     "metadata": {},
     "output_type": "execute_result"
    }
   ],
   "source": [
    "# code here\n",
    "df['price'].head()\n"
   ]
  },
  {
   "cell_type": "code",
   "execution_count": 21,
   "metadata": {},
   "outputs": [
    {
     "data": {
      "text/plain": [
       "53935    D\n",
       "53936    D\n",
       "53937    D\n",
       "53938    H\n",
       "53939    D\n",
       "Name: color, dtype: object"
      ]
     },
     "execution_count": 21,
     "metadata": {},
     "output_type": "execute_result"
    }
   ],
   "source": [
    "df['color'].tail()"
   ]
  },
  {
   "cell_type": "markdown",
   "metadata": {
    "id": "q-u9QIjJ5dfK"
   },
   "source": [
    "<h2>Soal 5: Deskriptif Statistik</h2>\n",
    "\n",
    "Jelaskan apa itu deskriptis statistik!"
   ]
  },
  {
   "cell_type": "markdown",
   "metadata": {
    "id": "iKTeB5Gd5dfM"
   },
   "source": [
    "Jawab: penjelasan mengenai statistika suatu data, seperti mean, median, mode, std, dan lain-lain"
   ]
  },
  {
   "cell_type": "markdown",
   "metadata": {
    "id": "5SKD0rNu5dfP"
   },
   "source": [
    "<h2>Soal 6: Practice Deskriptif Statistik</h2>\n",
    "\n",
    "- Gunakan suatu metode dari pandas untuk mengetahui deskriptif statistik dari suatu data\n",
    "- Berapa nilai rata-rata dari column price\n",
    "- Berapa nilai standar deviasi dari column depth\n",
    "- Berapa nilai maximum dari column carat"
   ]
  },
  {
   "cell_type": "code",
   "execution_count": 35,
   "metadata": {
    "id": "giNtJG9Y5dfS"
   },
   "outputs": [
    {
     "data": {
      "text/plain": [
       "count    53940.000000\n",
       "mean         0.797940\n",
       "std          0.474011\n",
       "min          0.200000\n",
       "25%          0.400000\n",
       "50%          0.700000\n",
       "75%          1.040000\n",
       "max          5.010000\n",
       "Name: carat, dtype: float64"
      ]
     },
     "execution_count": 35,
     "metadata": {},
     "output_type": "execute_result"
    }
   ],
   "source": [
    "# code here\n",
    "# df['price'].describe()\n",
    "# df['depth'].describe()\n",
    "df['carat'].describe()"
   ]
  },
  {
   "cell_type": "markdown",
   "metadata": {
    "id": "M6miZVtG5dfd"
   },
   "source": [
    "Jawab:\n",
    "df['price'].describe()\n",
    "output: mean      3932.799722\n",
    "\n",
    "df['depth'].describe()\n",
    "output: std          1.432621\n",
    "\n",
    "df['carat'].describe()\n",
    "output: max          5.010000\n"
   ]
  }
 ],
 "metadata": {
  "colab": {
   "name": "Tugas Hari 1 Pekan 2.ipynb",
   "provenance": []
  },
  "kernelspec": {
   "display_name": "myproject_kernel",
   "language": "python",
   "name": "myproject_kernel"
  },
  "language_info": {
   "codemirror_mode": {
    "name": "ipython",
    "version": 3
   },
   "file_extension": ".py",
   "mimetype": "text/x-python",
   "name": "python",
   "nbconvert_exporter": "python",
   "pygments_lexer": "ipython3",
   "version": "3.12.4"
  }
 },
 "nbformat": 4,
 "nbformat_minor": 0
}
